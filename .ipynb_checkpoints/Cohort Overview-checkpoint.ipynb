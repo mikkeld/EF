{
 "cells": [
  {
   "cell_type": "code",
   "execution_count": 210,
   "metadata": {},
   "outputs": [],
   "source": [
    "import pandas as pd\n",
    "import numpy as np\n",
    "import seaborn as sns\n",
    "import tensorflow as tf\n",
    "from keras.models import Model\n",
    "from keras.layers import Dense, Embedding, Input\n",
    "\n",
    "import matplotlib\n",
    "import matplotlib.pyplot as plt\n",
    "%matplotlib inline\n",
    "import requests\n",
    "import json\n",
    "import re\n",
    "from nltk.corpus import stopwords\n",
    "from wordcloud import WordCloud\n",
    "import nltk\n",
    "nltk.download(\"stopwords\")\n",
    "\n",
    "pd.set_option('display.max_colwidth', -1)"
   ]
  },
  {
   "cell_type": "code",
   "execution_count": 12,
   "metadata": {
    "collapsed": true
   },
   "outputs": [],
   "source": [
    "s = lambda x: 'https://www.joinef.com/actions/EF/portfolio/filter?page={}&sort=asc'.format(x)"
   ]
  },
  {
   "cell_type": "code",
   "execution_count": 59,
   "metadata": {},
   "outputs": [],
   "source": [
    "def get_cohort_data(url_func, n=10):\n",
    "    res = []\n",
    "    for i in range(1, n):\n",
    "        url = url_func(i)\n",
    "        try:\n",
    "            json = requests.get(url, allow_redirects=True).json()['result']\n",
    "            res += json\n",
    "        except Exception:\n",
    "            print('{} out of range'.format(i))\n",
    "    return pd.DataFrame(res)"
   ]
  },
  {
   "cell_type": "code",
   "execution_count": 60,
   "metadata": {},
   "outputs": [],
   "source": [
    "cohort_data = get_cohort_data(s)"
   ]
  },
  {
   "cell_type": "code",
   "execution_count": 64,
   "metadata": {},
   "outputs": [
    {
     "data": {
      "text/plain": [
       "(100, 11)"
      ]
     },
     "execution_count": 64,
     "metadata": {},
     "output_type": "execute_result"
    }
   ],
   "source": [
    "cohort_data.shape"
   ]
  },
  {
   "cell_type": "code",
   "execution_count": 71,
   "metadata": {},
   "outputs": [],
   "source": [
    "cohort_data.to_csv('cohort_data.csv')"
   ]
  },
  {
   "cell_type": "code",
   "execution_count": 100,
   "metadata": {},
   "outputs": [
    {
     "data": {
      "text/html": [
       "<div>\n",
       "<style>\n",
       "    .dataframe thead tr:only-child th {\n",
       "        text-align: right;\n",
       "    }\n",
       "\n",
       "    .dataframe thead th {\n",
       "        text-align: left;\n",
       "    }\n",
       "\n",
       "    .dataframe tbody tr th {\n",
       "        vertical-align: top;\n",
       "    }\n",
       "</style>\n",
       "<table border=\"1\" class=\"dataframe\">\n",
       "  <thead>\n",
       "    <tr style=\"text-align: right;\">\n",
       "      <th></th>\n",
       "      <th>cohort</th>\n",
       "      <th>founderImage</th>\n",
       "      <th>founders</th>\n",
       "      <th>id</th>\n",
       "      <th>logo</th>\n",
       "      <th>name</th>\n",
       "      <th>projectDescription</th>\n",
       "      <th>projectLocation</th>\n",
       "      <th>projectStatus</th>\n",
       "      <th>sector</th>\n",
       "      <th>website</th>\n",
       "    </tr>\n",
       "  </thead>\n",
       "  <tbody>\n",
       "    <tr>\n",
       "      <th>0</th>\n",
       "      <td>{'label': 'EFSG2 (Singapore)', 'value': 'efsg2Singapore', 'selected': True}</td>\n",
       "      <td>https://s3-eu-west-1.amazonaws.com/ef-website-production/assets/_w1024/EFSG1.png</td>\n",
       "      <td>[{'col1': 'Yasaman Nematbakhsh', 'founderName': 'Yasaman Nematbakhsh'}, {'col1': 'Data Ng', 'founderName': 'Data Ng'}]</td>\n",
       "      <td>1682</td>\n",
       "      <td>https://s3-eu-west-1.amazonaws.com/ef-website-production/assets/_square1024/42Lab.png</td>\n",
       "      <td>42Lab</td>\n",
       "      <td>&lt;p&gt;&lt;strong&gt;42LAB&lt;/strong&gt; is the first modular, portable and affordable biotech laboratory for students. With Science, Technology, Engineering and Mathematics (STEM) education becoming required in OECD countries, most schools struggle to introduce biotechnology to their students due to high equipment cost and troublesome experiment preparation. 42LAB solves this problem by providing a portable modular biotech equipment for students to conduct experiments as well as a companion app which serves as an electronic manual for students and a management tool for teachers. Our vision is to bring biotech experience to every student like what Raspberry pi does for computer science.&lt;br /&gt;&lt;span class=\"m_-3051852255652193813gmail-im\"&gt;&lt;/span&gt;&lt;/p&gt;&lt;p&gt;\\n&lt;/p&gt;&lt;p&gt;&lt;strong&gt;&lt;br /&gt;&lt;/strong&gt;&lt;/p&gt;&lt;p&gt;&lt;strong&gt;Dr. Yasaman Nematbakhsh&lt;/strong&gt; (CEO) is an expert in novel biomedical engineering fields such as microfluidics and biodesign with nearly 10 years of experience in biology and engineering. She has won numerous scholarships and awards for her outstanding work in her PhD at National University of Singapore and had been a crucial member of 3 startups.  &lt;/p&gt;&lt;p&gt;\\n&lt;/p&gt;&lt;p&gt;&lt;strong&gt;&lt;br /&gt;&lt;/strong&gt;&lt;/p&gt;&lt;p&gt;&lt;strong&gt;Dr. Data Ng &lt;/strong&gt;(CTO) is a hardware expert with a PhD in physics from Hong Kong University. As a director of a secondary school and court member of a university in Hong Kong, he has extensive network with schools and knows educational system inside out.&lt;/p&gt;</td>\n",
       "      <td>{'label': 'Singapore', 'value': 'singapore', 'selected': True}</td>\n",
       "      <td>{'label': 'Active', 'value': 'active', 'selected': True}</td>\n",
       "      <td>{'label': 'Education', 'value': 'education', 'selected': True}</td>\n",
       "      <td>https://42lab.io/</td>\n",
       "    </tr>\n",
       "    <tr>\n",
       "      <th>1</th>\n",
       "      <td>{'label': 'EF5 (London)', 'value': 'ef5London', 'selected': True}</td>\n",
       "      <td>https://s3-eu-west-1.amazonaws.com/ef-website-production/assets/_w1024/accelerated-dynamics.JPG</td>\n",
       "      <td>[{'col1': 'Mantas Gribulis', 'founderName': 'Mantas Gribulis'}, {'col1': 'Umar Javed Wani', 'founderName': 'Umar Javed Wani'}]</td>\n",
       "      <td>151</td>\n",
       "      <td>https://s3-eu-west-1.amazonaws.com/ef-website-production/assets/Portfolio-Logos/_square1024/ef-alumni-accelerateddynamics-a.png</td>\n",
       "      <td>Accelerated Dynamics</td>\n",
       "      <td>&lt;p&gt;&lt;strong&gt;Accelerated Dynamics&lt;/strong&gt; use machine learning, planning and multi-agent technologies, to transform drones, autonomous cars, satellite systems, and IoT devices into AI controllable assets which no longer require human operators. Our aim is to ease and promote the use of collaborative robots (aerial, ground or underwater) for business to enable the 4th Industrial Revolution.&lt;/p&gt;\\n&lt;p&gt;&lt;strong&gt;&lt;br /&gt;&lt;/strong&gt;&lt;/p&gt;\\n&lt;p&gt;&lt;strong&gt;Mantas Gribulis&lt;/strong&gt; is a Robotics Engineer with a Masters degree in Robotics and Artificial Intelligence from KCL. His areas of expertise are Artificial Intelligence, Scheduling and Planning and Robot Operating System. His Master’s thesis at KCL, titled, “Intelligent Planning for Unmanned Aerial Vehicle Systems” integrated cutting edge A.I. planning techniques into Robot Operating System to simulate fully autonomous UAV behavior in mission critical scenarios. &lt;br /&gt;&lt;/p&gt;\\n&lt;p&gt;&lt;strong&gt;&lt;br /&gt;&lt;/strong&gt;&lt;/p&gt;\\n&lt;p&gt;&lt;strong&gt;Umar Javed Wani&lt;/strong&gt; has a Masters degree in Robotics, Systems and Control from the highly prestigious ETH Zurich. He has a bachelors degree in Mechatronics Engineering. Umar has worked with some of the top researchers in the field of Robotics and Artificial Intelligence, such as Prof. Rolf Pfiefer and Prof. Fumiya Iida, during his stay at ETH Zurich and has authored research papers on topics such as autonomous wheelchairs and soft sensors. &lt;/p&gt;</td>\n",
       "      <td>{'label': 'London', 'value': 'london', 'selected': True}</td>\n",
       "      <td>{'label': 'Active', 'value': 'active', 'selected': True}</td>\n",
       "      <td>{'label': 'Robotics/IoT', 'value': 'roboticsIot', 'selected': True}</td>\n",
       "      <td>https://www.accelerateddynamics.co/</td>\n",
       "    </tr>\n",
       "    <tr>\n",
       "      <th>2</th>\n",
       "      <td>{'label': 'EF6 (London)', 'value': 'ef6London', 'selected': True}</td>\n",
       "      <td>https://s3-eu-west-1.amazonaws.com/ef-website-production/assets/_w1024/Screen-Shot-2017-07-07-at-1.57.05-PM.png</td>\n",
       "      <td>[{'col1': 'Jacob Haddad', 'founderName': 'Jacob Haddad'}, {'col1': 'Laurence Bargery', 'founderName': 'Laurence Bargery'}]</td>\n",
       "      <td>231</td>\n",
       "      <td>https://s3-eu-west-1.amazonaws.com/ef-website-production/assets/Portfolio-Logos/_square1024/accurx.png</td>\n",
       "      <td>AccuRx</td>\n",
       "      <td>&lt;p&gt;&lt;strong&gt;AccuRx&lt;/strong&gt; is developing data-driven diagnostic software to eliminate inappropriate antibiotic use and tackle antimicrobial resistance (AMR). AMR is one of the greatest societal threats, currently responsible for 700,000 global deaths each year, with this figure projected to rise to 10 million deaths by 2050, and a 3.5% hit to GDP. We solve this by combining decision support, behavioural science and data science, and starting in primary care.&lt;/p&gt;\\n&lt;p&gt;&lt;br /&gt;&lt;/p&gt;\\n&lt;p&gt;&lt;strong&gt;Jacob Haddad&lt;/strong&gt; read Engineering, Economics and Management at Oxford. He has led healthcare projects in quality improvement, performance improvement and outcome based commissioning.&lt;/p&gt;\\n&lt;p&gt;&lt;br /&gt;&lt;/p&gt;\\n&lt;p&gt;&lt;strong&gt;Laurence Bargery&lt;/strong&gt; read Physics at Cambridge. He previously developed optimisation software for the oil industry, and in his spare time built and sold sports competition software&lt;/p&gt;</td>\n",
       "      <td>{'label': 'London', 'value': 'london', 'selected': True}</td>\n",
       "      <td>{'label': 'Active', 'value': 'active', 'selected': True}</td>\n",
       "      <td>{'label': 'Digital Health', 'value': 'healthcare', 'selected': True}</td>\n",
       "      <td>http://www.accurx.com/</td>\n",
       "    </tr>\n",
       "    <tr>\n",
       "      <th>3</th>\n",
       "      <td>{'label': 'EFSG1 (Singapore)', 'value': 'efsg1Singapore', 'selected': True}</td>\n",
       "      <td>https://s3-eu-west-1.amazonaws.com/ef-website-production/assets/projects/_w1024/Ackcio.png</td>\n",
       "      <td>[{'col1': 'Mobashir Mohammad', 'founderName': 'Mobashir Mohammad'}, {'col1': 'Nimantha Baranasuriya', 'founderName': 'Nimantha Baranasuriya'}]</td>\n",
       "      <td>252</td>\n",
       "      <td>https://s3-eu-west-1.amazonaws.com/ef-website-production/assets/Portfolio-Logos/_square1024/ef-alumni-ackclo-b.png</td>\n",
       "      <td>Ackcio</td>\n",
       "      <td>&lt;p&gt;&lt;strong&gt;&lt;/strong&gt;&lt;strong&gt;Ackcio&lt;/strong&gt; builds extremely reliable, wireless monitoring solutions for the world's most challenging industries, like construction. Their end-to-end solution integrates with any industrial sensor and transmits sensor readings wirelessly to their cloud services where the data gets stored and analyzed. Ackcio's patent-pending wireless data collection protocol is capable of automatically learning an environment and fine-tuning radio parameters to ensure that no data gets lost during transmission of sensor readings.&lt;/p&gt;\\n&lt;p&gt;&lt;br /&gt;&lt;/p&gt;\\n&lt;p&gt;&lt;strong&gt;Mobashir Mohammad&lt;/strong&gt; is a wireless networking expert with 9 years of experience. He has won several awards for his outstanding PhD research in reliable wireless data collection protocols at NUS.&lt;/p&gt;\\n&lt;p&gt;&lt;br /&gt;&lt;/p&gt;\\n&lt;p&gt;&lt;strong&gt;Nimantha Baranasuriya&lt;/strong&gt; completed his PhD in wireless networks at NUS. His patent-pending techniques on improving the reliability of VoIP applications on Wi-Fi networks have been integrated in Skype&lt;/p&gt;</td>\n",
       "      <td>{'label': 'Singapore', 'value': 'singapore', 'selected': True}</td>\n",
       "      <td>{'label': 'Active', 'value': 'active', 'selected': True}</td>\n",
       "      <td>{'label': 'Manufacturing/Industrial', 'value': 'manufacturingIndustrial', 'selected': True}</td>\n",
       "      <td>https://ackcio.com/</td>\n",
       "    </tr>\n",
       "    <tr>\n",
       "      <th>4</th>\n",
       "      <td>{'label': 'EF1 (London)', 'value': 'ef1London', 'selected': True}</td>\n",
       "      <td>https://s3-eu-west-1.amazonaws.com/ef-website-production/assets/Portfolio-Alumni-Placeholder/_w1024/Pixel_emoji_1_170628_100840.jpg</td>\n",
       "      <td>[{'col1': 'Gareth Davies', 'founderName': 'Gareth Davies'}]</td>\n",
       "      <td>255</td>\n",
       "      <td>https://s3-eu-west-1.amazonaws.com/ef-website-production/assets/Portfolio-Logos/_square1024/Adbrain.png</td>\n",
       "      <td>Adbrain</td>\n",
       "      <td>&lt;p&gt;&lt;strong&gt;Adbrain’s&lt;/strong&gt; mission is to unlock the universe of data to build smarter businesses.  We drive business insights and real time, cross platform advertising decisioning for clients like M&amp;amp;C Saatchi and Onmicom.&lt;br /&gt;&lt;/p&gt;\\n&lt;p&gt;&lt;br /&gt;&lt;/p&gt;\\n&lt;p&gt;&lt;strong&gt;&lt;/strong&gt;&lt;strong&gt;Gareth Davies&lt;/strong&gt; has held multiple commercial roles at Google and DoubleClick. He also developed pioneering adtech solutions and ran global commercial operations for Somo&lt;/p&gt;</td>\n",
       "      <td>{'label': 'New York', 'value': 'newYork', 'selected': True}</td>\n",
       "      <td>{'label': 'Active', 'value': 'active', 'selected': True}</td>\n",
       "      <td>{'label': 'AR/VR/Media', 'value': 'arVrMedia', 'selected': True}</td>\n",
       "      <td>http://www.adbrain.com/</td>\n",
       "    </tr>\n",
       "    <tr>\n",
       "      <th>5</th>\n",
       "      <td>{'label': 'EFSG2 (Singapore)', 'value': 'efsg2Singapore', 'selected': True}</td>\n",
       "      <td>https://s3-eu-west-1.amazonaws.com/ef-website-production/assets/_w1024/EFSG1.png</td>\n",
       "      <td>[{'col1': 'Nisarg Shah', 'founderName': 'Nisarg Shah'}, {'col1': 'Swayam Narain', 'founderName': 'Swayam Narain'}]</td>\n",
       "      <td>1670</td>\n",
       "      <td>https://s3-eu-west-1.amazonaws.com/ef-website-production/assets/_square1024/Affable.png</td>\n",
       "      <td>Affable</td>\n",
       "      <td>&lt;p&gt;&lt;strong&gt;Affable&lt;/strong&gt; is building an end-to-end platform that brings intelligence and automation to influencer marketing. They derive insights about micro influencers and their audience by using cutting edge computer vision algorithms on social media posts. Affable is building the technology that enables one-click influencer marketing at scale, doing to social what Google Adwords did to search.&lt;br /&gt;&lt;/p&gt;&lt;p&gt;&lt;br /&gt;&lt;/p&gt;\\n&lt;p&gt;&lt;strong&gt;Nisarg Shah&lt;/strong&gt; graduated with a silver medal for overall excellence from Indian Institute of Technology (IIT). He worked with Goldman Sachs where he spearheaded software automation and big data projects.&lt;strong&gt; &lt;/strong&gt;Nisarg also developed and launched a social learning platform (Graspr) and an AR visualisation platform (Visualive) before founding Affable&lt;strong&gt;.&lt;/strong&gt;&lt;/p&gt;\\n&lt;p&gt;&lt;strong&gt;&lt;br /&gt;&lt;/strong&gt;&lt;/p&gt;&lt;p&gt;&lt;strong&gt;Swayam Narain&lt;/strong&gt; is an award winning computer scientist who graduated top of his class at Singapore University of Technology and Design (SUTD). He was a software engineer at Pivotal Labs where he turned client’s ideas to high quality products. He has expertise in building computer vision pipelines, social media platforms and cloud applications that scale.&lt;/p&gt;</td>\n",
       "      <td>{'label': 'Singapore', 'value': 'singapore', 'selected': True}</td>\n",
       "      <td>{'label': 'Active', 'value': 'active', 'selected': True}</td>\n",
       "      <td>{'label': 'AR/VR/Media', 'value': 'arVrMedia', 'selected': True}</td>\n",
       "      <td>http://affable.ai/</td>\n",
       "    </tr>\n",
       "    <tr>\n",
       "      <th>6</th>\n",
       "      <td>{'label': 'EF8 (London)', 'value': 'ef8London', 'selected': True}</td>\n",
       "      <td>https://s3-eu-west-1.amazonaws.com/ef-website-production/assets/_w1024/Agrosight.png</td>\n",
       "      <td>[{'col1': 'Mayke De Freitas Santos', 'founderName': 'Mayke De Freitas Santos'}, {'col1': 'Adolfo Posadas Durand', 'founderName': 'Adolfo Posadas Durand'}]</td>\n",
       "      <td>1645</td>\n",
       "      <td>https://s3-eu-west-1.amazonaws.com/ef-website-production/assets/_square1024/Agrosight.png</td>\n",
       "      <td>Agrosight</td>\n",
       "      <td>&lt;p&gt;&lt;strong&gt;Agrosight &lt;/strong&gt;detects plant diseases early using hyper-spectral signals, dramatically reducing the cost of food production. Our technology detects diseases before they cause serious damage to crops. We do this by detecting minute changes in the light spectrum profile of a plant, signalling that a plant is affected days before any physical manifestation of damage is shown. This significantly reduces crop loss for farmers. &lt;/p&gt;\\n&lt;p&gt;&lt;br /&gt;&lt;/p&gt;\\n&lt;p&gt;&lt;strong&gt;Mayke De Freitas Santos &lt;/strong&gt;has been working as a policy advisor and project manager for several NGOs to minimise the impact that agriculture causes to biodiversity globally. He holds degrees from the Universities of London and Cambridge in International Environmental Law and Conservation Policy. &lt;/p&gt;\\n&lt;p&gt;&lt;strong&gt;Adolfo Posadas Durand &lt;/strong&gt;has a PhD in Physical Science and more than 25 years of experience in applied physics, mathematical modelling and complex systems applied to agriculture, soil physics, ecology, and environmental science.&lt;/p&gt;</td>\n",
       "      <td>{'label': 'London', 'value': 'london', 'selected': True}</td>\n",
       "      <td>{'label': 'Active', 'value': 'active', 'selected': True}</td>\n",
       "      <td>{'label': 'Agriculture', 'value': 'agriculture', 'selected': True}</td>\n",
       "      <td></td>\n",
       "    </tr>\n",
       "    <tr>\n",
       "      <th>7</th>\n",
       "      <td>{'label': 'EF3 (London)', 'value': 'ef3London', 'selected': True}</td>\n",
       "      <td>https://s3-eu-west-1.amazonaws.com/ef-website-production/assets/projects/_w1024/aim-brain.png</td>\n",
       "      <td>[{'col1': 'Andrius Sutas', 'founderName': 'Andrius Sutas'}, {'col1': 'Alesis Novik', 'founderName': 'Alesis Novik'}]</td>\n",
       "      <td>258</td>\n",
       "      <td>https://s3-eu-west-1.amazonaws.com/ef-website-production/assets/Portfolio-Logos/_square1024/aimbrain.png</td>\n",
       "      <td>Aimbrain</td>\n",
       "      <td>&lt;p&gt;It is vital for financial institutions to identify fraud by verifying if the customers are who they say they are. But that security can't damage user experience. &lt;strong&gt;AimBrain&lt;/strong&gt; set out to solve that problem by delivering SaaS biometric authentication platform. It is the only platform that provides multi-module, Behavioural, Facial and Voice, authentication in a single package. &lt;/p&gt;\\n&lt;p&gt;&lt;br /&gt;&lt;/p&gt;\\n&lt;p&gt;&lt;strong&gt;Andrius Sutas&lt;/strong&gt; graduated top of the class in Computer Science &amp;amp; Electronics from the University of Edinburgh. In the course of his academic career he has served as a research assistant, and completed internships at the European Space Agency and ARM&lt;br /&gt;&lt;/p&gt;\\n&lt;p&gt;&lt;br /&gt;&lt;/p&gt;\\n&lt;p&gt;&lt;strong&gt;Alesis Novik&lt;/strong&gt; holds Master's degree in Artificial Intelligence from the University of Edinburgh and has participated in Google’s Summer of Code Program. More recently, he has spent time at CERN and at Level E Capital and has completed three years of PhD work before dropping out to start AimBrain.&lt;br /&gt;&lt;/p&gt;</td>\n",
       "      <td>{'label': 'London', 'value': 'london', 'selected': True}</td>\n",
       "      <td>{'label': 'Active', 'value': 'active', 'selected': True}</td>\n",
       "      <td>{'label': 'Security', 'value': 'security', 'selected': True}</td>\n",
       "      <td>http://aimbrain.com/</td>\n",
       "    </tr>\n",
       "    <tr>\n",
       "      <th>8</th>\n",
       "      <td>{'label': 'EF6 (London)', 'value': 'ef6London', 'selected': True}</td>\n",
       "      <td>https://s3-eu-west-1.amazonaws.com/ef-website-production/assets/_w1024/Screen-Shot-2017-07-07-at-1.27.28-PM.png</td>\n",
       "      <td>[{'col1': 'Giacomo Mariotti', 'founderName': 'Giacomo Mariotti'}, {'col1': 'Sree Balan', 'founderName': 'Sree Balan'}]</td>\n",
       "      <td>260</td>\n",
       "      <td>https://s3-eu-west-1.amazonaws.com/ef-website-production/assets/Portfolio-Logos/_square1024/Alpha.png</td>\n",
       "      <td>alpha i</td>\n",
       "      <td>&lt;p&gt;&lt;strong&gt;alpha i &lt;/strong&gt;is a research-led tech company combining cutting edge research in Bayesian methods and machine learning to bring AI to a large class of dynamical problems that traditional methods fail to describe. The company's first vertical is the ultimate dynamical system: the financial markets. They use their proprietary AI tech to spot transient market inefficiencies and and translate them into investment opportunities for the hedge fund industry.&lt;/p&gt;\\n&lt;p&gt;&lt;br /&gt;&lt;/p&gt;\\n&lt;p&gt;&lt;strong&gt;&lt;/strong&gt;&lt;strong&gt;Giacomo Mariotti&lt;/strong&gt; has Master’s in Particle Physics and Quantitative Finance. He worked for 2 years at RWE Npower, where he was the head quant of the hedging desk of the company.&lt;/p&gt;\\n&lt;p&gt;&lt;br /&gt;&lt;/p&gt;\\n&lt;p&gt;&lt;strong&gt;&lt;/strong&gt;&lt;strong&gt;Sreekumar Thaithara Balan&lt;/strong&gt; has a PhD in Astrophysics from the University of Cambridge and 4 years of postdoctoral experience at UCL. His research focus is high dimensional Bayesian inference. His models for cosmological data analysis and object detection led to the discovery of a new planet.&lt;br /&gt;&lt;/p&gt;</td>\n",
       "      <td>{'label': 'London', 'value': 'london', 'selected': True}</td>\n",
       "      <td>{'label': 'Active', 'value': 'active', 'selected': True}</td>\n",
       "      <td>{'label': 'Finance', 'value': 'finance', 'selected': True}</td>\n",
       "      <td>http://alpha-i.co/</td>\n",
       "    </tr>\n",
       "    <tr>\n",
       "      <th>9</th>\n",
       "      <td>{'label': 'EF4 (London)', 'value': 'ef4London', 'selected': True}</td>\n",
       "      <td>https://s3-eu-west-1.amazonaws.com/ef-website-production/assets/Portfolio-Alumni-Placeholder/_w1024/Pixel_emoji_4.png</td>\n",
       "      <td>[{'col1': 'Mostafa Elsayed', 'founderName': 'Mostafa Elsayed'}, {'col1': 'Suryansh Chandra', 'founderName': 'Suryansh Chandra'}]</td>\n",
       "      <td>264</td>\n",
       "      <td>https://s3-eu-west-1.amazonaws.com/ef-website-production/assets/Portfolio-Logos/_square1024/Automata2.png</td>\n",
       "      <td>Automata Technologies</td>\n",
       "      <td>&lt;p&gt;&lt;strong&gt;Automata&lt;/strong&gt; is  working to democratize robotics by creating an affordable &amp;amp; accessible robotic ecosystem. Our first product, is a lightweight, plug-n-play robotic arm, with software so simple that it takes just three taps to get running. On top of all that, it costs just a tenth of conventional table-top sized industrial arms. &lt;/p&gt;\\n&lt;p&gt;&lt;br /&gt;&lt;/p&gt;\\n&lt;p&gt;&lt;strong&gt;Suryansh Chandra&lt;/strong&gt; and &lt;strong&gt;Mostafa Elsayed&lt;/strong&gt;, met while working for the last 6 years at the Computation &amp;amp; Design Research Group at Zaha Hadid’s London office, where they were engaged in advanced design and manufacturing techniques including robotics.&lt;/p&gt;</td>\n",
       "      <td>{'label': 'London', 'value': 'london', 'selected': True}</td>\n",
       "      <td>{'label': 'Active', 'value': 'active', 'selected': True}</td>\n",
       "      <td>{'label': 'Robotics/IoT', 'value': 'roboticsIot', 'selected': True}</td>\n",
       "      <td>http://www.getautomata.com/</td>\n",
       "    </tr>\n",
       "  </tbody>\n",
       "</table>\n",
       "</div>"
      ],
      "text/plain": [
       "                                                                        cohort  \\\n",
       "0  {'label': 'EFSG2 (Singapore)', 'value': 'efsg2Singapore', 'selected': True}   \n",
       "1  {'label': 'EF5 (London)', 'value': 'ef5London', 'selected': True}             \n",
       "2  {'label': 'EF6 (London)', 'value': 'ef6London', 'selected': True}             \n",
       "3  {'label': 'EFSG1 (Singapore)', 'value': 'efsg1Singapore', 'selected': True}   \n",
       "4  {'label': 'EF1 (London)', 'value': 'ef1London', 'selected': True}             \n",
       "5  {'label': 'EFSG2 (Singapore)', 'value': 'efsg2Singapore', 'selected': True}   \n",
       "6  {'label': 'EF8 (London)', 'value': 'ef8London', 'selected': True}             \n",
       "7  {'label': 'EF3 (London)', 'value': 'ef3London', 'selected': True}             \n",
       "8  {'label': 'EF6 (London)', 'value': 'ef6London', 'selected': True}             \n",
       "9  {'label': 'EF4 (London)', 'value': 'ef4London', 'selected': True}             \n",
       "\n",
       "                                                                                                                          founderImage  \\\n",
       "0  https://s3-eu-west-1.amazonaws.com/ef-website-production/assets/_w1024/EFSG1.png                                                      \n",
       "1  https://s3-eu-west-1.amazonaws.com/ef-website-production/assets/_w1024/accelerated-dynamics.JPG                                       \n",
       "2  https://s3-eu-west-1.amazonaws.com/ef-website-production/assets/_w1024/Screen-Shot-2017-07-07-at-1.57.05-PM.png                       \n",
       "3  https://s3-eu-west-1.amazonaws.com/ef-website-production/assets/projects/_w1024/Ackcio.png                                            \n",
       "4  https://s3-eu-west-1.amazonaws.com/ef-website-production/assets/Portfolio-Alumni-Placeholder/_w1024/Pixel_emoji_1_170628_100840.jpg   \n",
       "5  https://s3-eu-west-1.amazonaws.com/ef-website-production/assets/_w1024/EFSG1.png                                                      \n",
       "6  https://s3-eu-west-1.amazonaws.com/ef-website-production/assets/_w1024/Agrosight.png                                                  \n",
       "7  https://s3-eu-west-1.amazonaws.com/ef-website-production/assets/projects/_w1024/aim-brain.png                                         \n",
       "8  https://s3-eu-west-1.amazonaws.com/ef-website-production/assets/_w1024/Screen-Shot-2017-07-07-at-1.27.28-PM.png                       \n",
       "9  https://s3-eu-west-1.amazonaws.com/ef-website-production/assets/Portfolio-Alumni-Placeholder/_w1024/Pixel_emoji_4.png                 \n",
       "\n",
       "                                                                                                                                                     founders  \\\n",
       "0  [{'col1': 'Yasaman Nematbakhsh', 'founderName': 'Yasaman Nematbakhsh'}, {'col1': 'Data Ng', 'founderName': 'Data Ng'}]                                       \n",
       "1  [{'col1': 'Mantas Gribulis', 'founderName': 'Mantas Gribulis'}, {'col1': 'Umar Javed Wani', 'founderName': 'Umar Javed Wani'}]                               \n",
       "2  [{'col1': 'Jacob Haddad', 'founderName': 'Jacob Haddad'}, {'col1': 'Laurence Bargery', 'founderName': 'Laurence Bargery'}]                                   \n",
       "3  [{'col1': 'Mobashir Mohammad', 'founderName': 'Mobashir Mohammad'}, {'col1': 'Nimantha Baranasuriya', 'founderName': 'Nimantha Baranasuriya'}]               \n",
       "4  [{'col1': 'Gareth Davies', 'founderName': 'Gareth Davies'}]                                                                                                  \n",
       "5  [{'col1': 'Nisarg Shah', 'founderName': 'Nisarg Shah'}, {'col1': 'Swayam Narain', 'founderName': 'Swayam Narain'}]                                           \n",
       "6  [{'col1': 'Mayke De Freitas Santos', 'founderName': 'Mayke De Freitas Santos'}, {'col1': 'Adolfo Posadas Durand', 'founderName': 'Adolfo Posadas Durand'}]   \n",
       "7  [{'col1': 'Andrius Sutas', 'founderName': 'Andrius Sutas'}, {'col1': 'Alesis Novik', 'founderName': 'Alesis Novik'}]                                         \n",
       "8  [{'col1': 'Giacomo Mariotti', 'founderName': 'Giacomo Mariotti'}, {'col1': 'Sree Balan', 'founderName': 'Sree Balan'}]                                       \n",
       "9  [{'col1': 'Mostafa Elsayed', 'founderName': 'Mostafa Elsayed'}, {'col1': 'Suryansh Chandra', 'founderName': 'Suryansh Chandra'}]                             \n",
       "\n",
       "     id  \\\n",
       "0  1682   \n",
       "1  151    \n",
       "2  231    \n",
       "3  252    \n",
       "4  255    \n",
       "5  1670   \n",
       "6  1645   \n",
       "7  258    \n",
       "8  260    \n",
       "9  264    \n",
       "\n",
       "                                                                                                                              logo  \\\n",
       "0  https://s3-eu-west-1.amazonaws.com/ef-website-production/assets/_square1024/42Lab.png                                             \n",
       "1  https://s3-eu-west-1.amazonaws.com/ef-website-production/assets/Portfolio-Logos/_square1024/ef-alumni-accelerateddynamics-a.png   \n",
       "2  https://s3-eu-west-1.amazonaws.com/ef-website-production/assets/Portfolio-Logos/_square1024/accurx.png                            \n",
       "3  https://s3-eu-west-1.amazonaws.com/ef-website-production/assets/Portfolio-Logos/_square1024/ef-alumni-ackclo-b.png                \n",
       "4  https://s3-eu-west-1.amazonaws.com/ef-website-production/assets/Portfolio-Logos/_square1024/Adbrain.png                           \n",
       "5  https://s3-eu-west-1.amazonaws.com/ef-website-production/assets/_square1024/Affable.png                                           \n",
       "6  https://s3-eu-west-1.amazonaws.com/ef-website-production/assets/_square1024/Agrosight.png                                         \n",
       "7  https://s3-eu-west-1.amazonaws.com/ef-website-production/assets/Portfolio-Logos/_square1024/aimbrain.png                          \n",
       "8  https://s3-eu-west-1.amazonaws.com/ef-website-production/assets/Portfolio-Logos/_square1024/Alpha.png                             \n",
       "9  https://s3-eu-west-1.amazonaws.com/ef-website-production/assets/Portfolio-Logos/_square1024/Automata2.png                         \n",
       "\n",
       "                    name  \\\n",
       "0  42Lab                   \n",
       "1  Accelerated Dynamics    \n",
       "2  AccuRx                  \n",
       "3  Ackcio                  \n",
       "4  Adbrain                 \n",
       "5  Affable                 \n",
       "6  Agrosight               \n",
       "7  Aimbrain                \n",
       "8  alpha i                 \n",
       "9  Automata Technologies   \n",
       "\n",
       "                                                                                                                                                                                                                                                                                                                                                                                                                                                                                                                                                                                                                                                                                                                                                                                                                                                                                                                                                                                                                                                                                                                                                                                                                                                                                                                                                                                                                                                                                                      projectDescription  \\\n",
       "0  <p><strong>42LAB</strong> is the first modular, portable and affordable biotech laboratory for students. With Science, Technology, Engineering and Mathematics (STEM) education becoming required in OECD countries, most schools struggle to introduce biotechnology to their students due to high equipment cost and troublesome experiment preparation. 42LAB solves this problem by providing a portable modular biotech equipment for students to conduct experiments as well as a companion app which serves as an electronic manual for students and a management tool for teachers. Our vision is to bring biotech experience to every student like what Raspberry pi does for computer science.<br /><span class=\"m_-3051852255652193813gmail-im\"></span></p><p>\\n</p><p><strong><br /></strong></p><p><strong>Dr. Yasaman Nematbakhsh</strong> (CEO) is an expert in novel biomedical engineering fields such as microfluidics and biodesign with nearly 10 years of experience in biology and engineering. She has won numerous scholarships and awards for her outstanding work in her PhD at National University of Singapore and had been a crucial member of 3 startups.  </p><p>\\n</p><p><strong><br /></strong></p><p><strong>Dr. Data Ng </strong>(CTO) is a hardware expert with a PhD in physics from Hong Kong University. As a director of a secondary school and court member of a university in Hong Kong, he has extensive network with schools and knows educational system inside out.</p>   \n",
       "1  <p><strong>Accelerated Dynamics</strong> use machine learning, planning and multi-agent technologies, to transform drones, autonomous cars, satellite systems, and IoT devices into AI controllable assets which no longer require human operators. Our aim is to ease and promote the use of collaborative robots (aerial, ground or underwater) for business to enable the 4th Industrial Revolution.</p>\\n<p><strong><br /></strong></p>\\n<p><strong>Mantas Gribulis</strong> is a Robotics Engineer with a Masters degree in Robotics and Artificial Intelligence from KCL. His areas of expertise are Artificial Intelligence, Scheduling and Planning and Robot Operating System. His Master’s thesis at KCL, titled, “Intelligent Planning for Unmanned Aerial Vehicle Systems” integrated cutting edge A.I. planning techniques into Robot Operating System to simulate fully autonomous UAV behavior in mission critical scenarios. <br /></p>\\n<p><strong><br /></strong></p>\\n<p><strong>Umar Javed Wani</strong> has a Masters degree in Robotics, Systems and Control from the highly prestigious ETH Zurich. He has a bachelors degree in Mechatronics Engineering. Umar has worked with some of the top researchers in the field of Robotics and Artificial Intelligence, such as Prof. Rolf Pfiefer and Prof. Fumiya Iida, during his stay at ETH Zurich and has authored research papers on topics such as autonomous wheelchairs and soft sensors. </p>                                               \n",
       "2  <p><strong>AccuRx</strong> is developing data-driven diagnostic software to eliminate inappropriate antibiotic use and tackle antimicrobial resistance (AMR). AMR is one of the greatest societal threats, currently responsible for 700,000 global deaths each year, with this figure projected to rise to 10 million deaths by 2050, and a 3.5% hit to GDP. We solve this by combining decision support, behavioural science and data science, and starting in primary care.</p>\\n<p><br /></p>\\n<p><strong>Jacob Haddad</strong> read Engineering, Economics and Management at Oxford. He has led healthcare projects in quality improvement, performance improvement and outcome based commissioning.</p>\\n<p><br /></p>\\n<p><strong>Laurence Bargery</strong> read Physics at Cambridge. He previously developed optimisation software for the oil industry, and in his spare time built and sold sports competition software</p>                                                                                                                                                                                                                                                                                                                                                                                                                                                                                                                                                                                  \n",
       "3  <p><strong></strong><strong>Ackcio</strong> builds extremely reliable, wireless monitoring solutions for the world's most challenging industries, like construction. Their end-to-end solution integrates with any industrial sensor and transmits sensor readings wirelessly to their cloud services where the data gets stored and analyzed. Ackcio's patent-pending wireless data collection protocol is capable of automatically learning an environment and fine-tuning radio parameters to ensure that no data gets lost during transmission of sensor readings.</p>\\n<p><br /></p>\\n<p><strong>Mobashir Mohammad</strong> is a wireless networking expert with 9 years of experience. He has won several awards for his outstanding PhD research in reliable wireless data collection protocols at NUS.</p>\\n<p><br /></p>\\n<p><strong>Nimantha Baranasuriya</strong> completed his PhD in wireless networks at NUS. His patent-pending techniques on improving the reliability of VoIP applications on Wi-Fi networks have been integrated in Skype</p>                                                                                                                                                                                                                                                                                                                                                                                                                                                         \n",
       "4  <p><strong>Adbrain’s</strong> mission is to unlock the universe of data to build smarter businesses.  We drive business insights and real time, cross platform advertising decisioning for clients like M&amp;C Saatchi and Onmicom.<br /></p>\\n<p><br /></p>\\n<p><strong></strong><strong>Gareth Davies</strong> has held multiple commercial roles at Google and DoubleClick. He also developed pioneering adtech solutions and ran global commercial operations for Somo</p>                                                                                                                                                                                                                                                                                                                                                                                                                                                                                                                                                                                                                                                                                                                                                                                                                                                                                                                                                                                                                                         \n",
       "5  <p><strong>Affable</strong> is building an end-to-end platform that brings intelligence and automation to influencer marketing. They derive insights about micro influencers and their audience by using cutting edge computer vision algorithms on social media posts. Affable is building the technology that enables one-click influencer marketing at scale, doing to social what Google Adwords did to search.<br /></p><p><br /></p>\\n<p><strong>Nisarg Shah</strong> graduated with a silver medal for overall excellence from Indian Institute of Technology (IIT). He worked with Goldman Sachs where he spearheaded software automation and big data projects.<strong> </strong>Nisarg also developed and launched a social learning platform (Graspr) and an AR visualisation platform (Visualive) before founding Affable<strong>.</strong></p>\\n<p><strong><br /></strong></p><p><strong>Swayam Narain</strong> is an award winning computer scientist who graduated top of his class at Singapore University of Technology and Design (SUTD). He was a software engineer at Pivotal Labs where he turned client’s ideas to high quality products. He has expertise in building computer vision pipelines, social media platforms and cloud applications that scale.</p>                                                                                                                                                                                                                                   \n",
       "6  <p><strong>Agrosight </strong>detects plant diseases early using hyper-spectral signals, dramatically reducing the cost of food production. Our technology detects diseases before they cause serious damage to crops. We do this by detecting minute changes in the light spectrum profile of a plant, signalling that a plant is affected days before any physical manifestation of damage is shown. This significantly reduces crop loss for farmers. </p>\\n<p><br /></p>\\n<p><strong>Mayke De Freitas Santos </strong>has been working as a policy advisor and project manager for several NGOs to minimise the impact that agriculture causes to biodiversity globally. He holds degrees from the Universities of London and Cambridge in International Environmental Law and Conservation Policy. </p>\\n<p><strong>Adolfo Posadas Durand </strong>has a PhD in Physical Science and more than 25 years of experience in applied physics, mathematical modelling and complex systems applied to agriculture, soil physics, ecology, and environmental science.</p>                                                                                                                                                                                                                                                                                                                                                                                                                                                 \n",
       "7  <p>It is vital for financial institutions to identify fraud by verifying if the customers are who they say they are. But that security can't damage user experience. <strong>AimBrain</strong> set out to solve that problem by delivering SaaS biometric authentication platform. It is the only platform that provides multi-module, Behavioural, Facial and Voice, authentication in a single package. </p>\\n<p><br /></p>\\n<p><strong>Andrius Sutas</strong> graduated top of the class in Computer Science &amp; Electronics from the University of Edinburgh. In the course of his academic career he has served as a research assistant, and completed internships at the European Space Agency and ARM<br /></p>\\n<p><br /></p>\\n<p><strong>Alesis Novik</strong> holds Master's degree in Artificial Intelligence from the University of Edinburgh and has participated in Google’s Summer of Code Program. More recently, he has spent time at CERN and at Level E Capital and has completed three years of PhD work before dropping out to start AimBrain.<br /></p>                                                                                                                                                                                                                                                                                                                                                                                                                                         \n",
       "8  <p><strong>alpha i </strong>is a research-led tech company combining cutting edge research in Bayesian methods and machine learning to bring AI to a large class of dynamical problems that traditional methods fail to describe. The company's first vertical is the ultimate dynamical system: the financial markets. They use their proprietary AI tech to spot transient market inefficiencies and and translate them into investment opportunities for the hedge fund industry.</p>\\n<p><br /></p>\\n<p><strong></strong><strong>Giacomo Mariotti</strong> has Master’s in Particle Physics and Quantitative Finance. He worked for 2 years at RWE Npower, where he was the head quant of the hedging desk of the company.</p>\\n<p><br /></p>\\n<p><strong></strong><strong>Sreekumar Thaithara Balan</strong> has a PhD in Astrophysics from the University of Cambridge and 4 years of postdoctoral experience at UCL. His research focus is high dimensional Bayesian inference. His models for cosmological data analysis and object detection led to the discovery of a new planet.<br /></p>                                                                                                                                                                                                                                                                                                                                                                                                                   \n",
       "9  <p><strong>Automata</strong> is  working to democratize robotics by creating an affordable &amp; accessible robotic ecosystem. Our first product, is a lightweight, plug-n-play robotic arm, with software so simple that it takes just three taps to get running. On top of all that, it costs just a tenth of conventional table-top sized industrial arms. </p>\\n<p><br /></p>\\n<p><strong>Suryansh Chandra</strong> and <strong>Mostafa Elsayed</strong>, met while working for the last 6 years at the Computation &amp; Design Research Group at Zaha Hadid’s London office, where they were engaged in advanced design and manufacturing techniques including robotics.</p>                                                                                                                                                                                                                                                                                                                                                                                                                                                                                                                                                                                                                                                                                                                                                                                                                                      \n",
       "\n",
       "                                                  projectLocation  \\\n",
       "0  {'label': 'Singapore', 'value': 'singapore', 'selected': True}   \n",
       "1  {'label': 'London', 'value': 'london', 'selected': True}         \n",
       "2  {'label': 'London', 'value': 'london', 'selected': True}         \n",
       "3  {'label': 'Singapore', 'value': 'singapore', 'selected': True}   \n",
       "4  {'label': 'New York', 'value': 'newYork', 'selected': True}      \n",
       "5  {'label': 'Singapore', 'value': 'singapore', 'selected': True}   \n",
       "6  {'label': 'London', 'value': 'london', 'selected': True}         \n",
       "7  {'label': 'London', 'value': 'london', 'selected': True}         \n",
       "8  {'label': 'London', 'value': 'london', 'selected': True}         \n",
       "9  {'label': 'London', 'value': 'london', 'selected': True}         \n",
       "\n",
       "                                              projectStatus  \\\n",
       "0  {'label': 'Active', 'value': 'active', 'selected': True}   \n",
       "1  {'label': 'Active', 'value': 'active', 'selected': True}   \n",
       "2  {'label': 'Active', 'value': 'active', 'selected': True}   \n",
       "3  {'label': 'Active', 'value': 'active', 'selected': True}   \n",
       "4  {'label': 'Active', 'value': 'active', 'selected': True}   \n",
       "5  {'label': 'Active', 'value': 'active', 'selected': True}   \n",
       "6  {'label': 'Active', 'value': 'active', 'selected': True}   \n",
       "7  {'label': 'Active', 'value': 'active', 'selected': True}   \n",
       "8  {'label': 'Active', 'value': 'active', 'selected': True}   \n",
       "9  {'label': 'Active', 'value': 'active', 'selected': True}   \n",
       "\n",
       "                                                                                        sector  \\\n",
       "0  {'label': 'Education', 'value': 'education', 'selected': True}                                \n",
       "1  {'label': 'Robotics/IoT', 'value': 'roboticsIot', 'selected': True}                           \n",
       "2  {'label': 'Digital Health', 'value': 'healthcare', 'selected': True}                          \n",
       "3  {'label': 'Manufacturing/Industrial', 'value': 'manufacturingIndustrial', 'selected': True}   \n",
       "4  {'label': 'AR/VR/Media', 'value': 'arVrMedia', 'selected': True}                              \n",
       "5  {'label': 'AR/VR/Media', 'value': 'arVrMedia', 'selected': True}                              \n",
       "6  {'label': 'Agriculture', 'value': 'agriculture', 'selected': True}                            \n",
       "7  {'label': 'Security', 'value': 'security', 'selected': True}                                  \n",
       "8  {'label': 'Finance', 'value': 'finance', 'selected': True}                                    \n",
       "9  {'label': 'Robotics/IoT', 'value': 'roboticsIot', 'selected': True}                           \n",
       "\n",
       "                               website  \n",
       "0  https://42lab.io/                    \n",
       "1  https://www.accelerateddynamics.co/  \n",
       "2  http://www.accurx.com/               \n",
       "3  https://ackcio.com/                  \n",
       "4  http://www.adbrain.com/              \n",
       "5  http://affable.ai/                   \n",
       "6                                       \n",
       "7  http://aimbrain.com/                 \n",
       "8  http://alpha-i.co/                   \n",
       "9  http://www.getautomata.com/          "
      ]
     },
     "execution_count": 100,
     "metadata": {},
     "output_type": "execute_result"
    }
   ],
   "source": [
    "cohort_data.head(10)"
   ]
  },
  {
   "cell_type": "code",
   "execution_count": 125,
   "metadata": {
    "collapsed": true
   },
   "outputs": [],
   "source": [
    "ais = ['ml', 'ai', 'artificial intelligence', 'machine learning']\n",
    "phds = ['phd', 'doctor']\n",
    "big_company = ['google', 'deepmind', 'microsoft', 'facebook', 'linkedin', 'amazon']\n",
    "good_university = ['stanford', 'harvard', 'oxford', 'mit', 'cambridge', 'imperial']"
   ]
  },
  {
   "cell_type": "code",
   "execution_count": 129,
   "metadata": {
    "collapsed": true
   },
   "outputs": [],
   "source": [
    "def clean_description(ds):\n",
    "    new_ds = ds.copy()\n",
    "    new_ds = new_ds.str.lower\n",
    "    new_ds = new_ds.replace(['.', ','], '')\n",
    "    return new_ds  \n",
    "\n",
    "def cleanhtml(raw_html):\n",
    "    cleanr = re.compile('<.*?>')\n",
    "    cleantext = re.sub(cleanr, '', raw_html)\n",
    "    return cleantext\n",
    "\n",
    "def match_tags(ds, terms):\n",
    "    return [any([term in desc.split(' ') for term in terms]) for desc in ds] "
   ]
  },
  {
   "cell_type": "code",
   "execution_count": 154,
   "metadata": {},
   "outputs": [],
   "source": [
    "def clean_cohort_data(df):\n",
    "    new_df = df.copy()\n",
    "    new_df['projectLocation'] = new_df.projectLocation.apply(lambda x: x['label'])\n",
    "    new_df['cohort'] = new_df.cohort.apply(lambda x: ''.join([d for d in x['label'] if d.isdigit()]))\n",
    "    new_df['projectStatus'] = new_df.projectStatus.apply(lambda x: x['label'])\n",
    "    new_df['sector'] = new_df.sector.apply(lambda x: x['label'])\n",
    "    new_df['cleaned_description'] = new_df.projectDescription.str.lower()\n",
    "    new_df['cleaned_description'] = new_df.cleaned_description.replace(['.', ','], '')\n",
    "    new_df['cleaned_description'] = new_df.cleaned_description.apply(cleanhtml)\n",
    "    new_df['ai'] = match_tags(new_df['cleaned_description'], ais)\n",
    "    new_df['phds'] = match_tags(new_df['cleaned_description'], phds)\n",
    "    new_df['big_company'] = match_tags(new_df['cleaned_description'], big_company)\n",
    "    new_df['good_university'] = match_tags(new_df['cleaned_description'], good_university) \n",
    "    \n",
    "    return new_df\n",
    "\n",
    "cohort_clean_df = clean_cohort_data(cohort_data)  "
   ]
  },
  {
   "cell_type": "code",
   "execution_count": 187,
   "metadata": {
    "collapsed": true
   },
   "outputs": [],
   "source": [
    "def display_value_counts(ds):        \n",
    "    ds.value_counts().reset_index().sort_values(by=\"index\").plot(kind=\"bar\")"
   ]
  },
  {
   "cell_type": "markdown",
   "metadata": {},
   "source": [
    "### Location"
   ]
  },
  {
   "cell_type": "code",
   "execution_count": 168,
   "metadata": {},
   "outputs": [
    {
     "data": {
      "text/plain": [
       "<matplotlib.axes._subplots.AxesSubplot at 0x117d3dd68>"
      ]
     },
     "execution_count": 168,
     "metadata": {},
     "output_type": "execute_result"
    },
    {
     "data": {
      "image/png": "[encoded data removed]",
      "text/plain": [
       "<matplotlib.figure.Figure at 0x117a64630>"
      ]
     },
     "metadata": {},
     "output_type": "display_data"
    }
   ],
   "source": [
    "cohort_clean_df.projectLocation.value_counts().plot(kind=\"bar\")"
   ]
  },
  {
   "cell_type": "markdown",
   "metadata": {},
   "source": [
    "### Cohort"
   ]
  },
  {
   "cell_type": "code",
   "execution_count": 188,
   "metadata": {},
   "outputs": [
    {
     "data": {
      "image/png": "[encoded data removed]",
      "text/plain": [
       "<matplotlib.figure.Figure at 0x118e4a4e0>"
      ]
     },
     "metadata": {},
     "output_type": "display_data"
    }
   ],
   "source": [
    "display_value_counts(cohort_clean_df.cohort)"
   ]
  },
  {
   "cell_type": "markdown",
   "metadata": {},
   "source": [
    "### Sector"
   ]
  },
  {
   "cell_type": "code",
   "execution_count": 193,
   "metadata": {},
   "outputs": [
    {
     "data": {
      "text/plain": [
       "<matplotlib.axes._subplots.AxesSubplot at 0x118dcf400>"
      ]
     },
     "execution_count": 193,
     "metadata": {},
     "output_type": "execute_result"
    },
    {
     "data": {
      "image/png": "[encoded data removed]",
      "text/plain": [
       "<matplotlib.figure.Figure at 0x119181a58>"
      ]
     },
     "metadata": {},
     "output_type": "display_data"
    }
   ],
   "source": [
    "cohort_clean_df.sector.value_counts().plot(kind=\"bar\")"
   ]
  },
  {
   "cell_type": "markdown",
   "metadata": {},
   "source": [
    "### Big words"
   ]
  },
  {
   "cell_type": "code",
   "execution_count": 204,
   "metadata": {},
   "outputs": [
    {
     "data": {
      "text/plain": [
       "<matplotlib.axes._subplots.AxesSubplot at 0x1a2a5e6400>"
      ]
     },
     "execution_count": 204,
     "metadata": {},
     "output_type": "execute_result"
    },
    {
     "data": {
      "image/png": "[encoded data removed]",
      "text/plain": [
       "<matplotlib.figure.Figure at 0x1191a1ba8>"
      ]
     },
     "metadata": {},
     "output_type": "display_data"
    }
   ],
   "source": [
    "big_words = ['ai', 'phds', 'big_company', 'good_university']\n",
    "\n",
    "cohort_clean_df[big_words].sum().sort_values(ascending=False).plot(kind=\"bar\")"
   ]
  },
  {
   "cell_type": "markdown",
   "metadata": {},
   "source": [
    "### Words"
   ]
  },
  {
   "cell_type": "code",
   "execution_count": 213,
   "metadata": {},
   "outputs": [
    {
     "name": "stdout",
     "output_type": "stream",
     "text": [
      "[nltk_data] Downloading package stopwords to\n",
      "[nltk_data]     /Users/mikkeldengsoe/nltk_data...\n",
      "[nltk_data]   Unzipping corpora/stopwords.zip.\n"
     ]
    }
   ],
   "source": [
    "\n",
    "stop_words = set(stopwords.words('english'))"
   ]
  },
  {
   "cell_type": "code",
   "execution_count": null,
   "metadata": {
    "collapsed": true
   },
   "outputs": [],
   "source": []
  }
 ],
 "metadata": {
  "kernelspec": {
   "display_name": "Python 3",
   "language": "python",
   "name": "python3"
  },
  "language_info": {
   "codemirror_mode": {
    "name": "ipython",
    "version": 3
   },
   "file_extension": ".py",
   "mimetype": "text/x-python",
   "name": "python",
   "nbconvert_exporter": "python",
   "pygments_lexer": "ipython3",
   "version": "3.6.3"
  }
 },
 "nbformat": 4,
 "nbformat_minor": 2
}
